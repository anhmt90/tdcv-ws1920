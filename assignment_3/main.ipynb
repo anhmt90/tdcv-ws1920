{
 "cells": [
  {
   "cell_type": "code",
   "execution_count": null,
   "metadata": {
    "colab": {},
    "colab_type": "code",
    "id": "RUG4UcKDqgE9"
   },
   "outputs": [],
   "source": [
    "%load_ext autoreload\n",
    "%autoreload 2"
   ]
  },
  {
   "cell_type": "markdown",
   "metadata": {
    "colab_type": "text",
    "id": "ugKn8tXPYf3G"
   },
   "source": [
    "#Run our best pretrained model\n",
    "\n",
    "#### - Our best model was trained with `batch_size = 2048`, `num_epochs = 50`, initial `lr = 1e-3`\n",
    "\n",
    "#### - Logs and visualizations (including embedding visualization by Tensorboard projector) of the our best pretrained model will be stored in ./runs/best/ and can be shown by Tensorboard "
   ]
  },
  {
   "cell_type": "code",
   "execution_count": null,
   "metadata": {
    "colab": {
     "base_uri": "https://localhost:8080/",
     "height": 1000
    },
    "colab_type": "code",
    "id": "SHPCMIYZYn2N",
    "outputId": "bc2e8b7a-6195-41b1-be9f-bf0c567bd47c",
    "pycharm": {
     "is_executing": true
    }
   },
   "outputs": [],
   "source": [
    "import os\n",
    "import torch\n",
    "import numpy as np\n",
    "import net\n",
    "import viz\n",
    "import data_generator\n",
    "from torch.utils.tensorboard import SummaryWriter\n",
    "import matplotlib.pyplot as plt\n",
    "from sklearn.decomposition import PCA\n",
    "from sklearn.manifold import TSNE\n",
    "\n",
    "device = torch.device(\"cuda:0\" if torch.cuda.is_available() else \"cpu\")\n",
    "writer = SummaryWriter()\n",
    "\n",
    "\n",
    "dg = data_generator.DataGenerator(root='./dataset', batch_size=2048)\n",
    "\n",
    "ckp_path = os.path.join('models', 'best.pt')\n",
    "model = net.Net()\n",
    "model, _ = net.load_ckp(ckp_path, model)\n",
    "test_descriptors = net.compute_descriptor(model, dg.test_loader)\n",
    "\n",
    "hist_fig, pca_fig, tsne_fig, confusion_fig = viz.get_all_plots(model, dg, test_descriptors)\n",
    "\n",
    "hist_fig.show()\n",
    "pca_fig.show()\n",
    "tsne_fig.show()\n",
    "confusion_fig.show()\n",
    "\n",
    "\n",
    "writer.add_figure(\"Histogram\", hist_fig)\n",
    "writer.add_figure(\"PCA\", pca_fig)\n",
    "writer.add_figure(\"t-SNE\", tsne_fig)\n",
    "writer.add_figure(\"Confusion Heatmap\", confusion_fig)\n",
    "\n",
    "writer.add_embedding(test_descriptors, metadata=dg.test_labels, tag='test_descriptors')\n",
    "writer.close()"
   ]
  },
  {
   "cell_type": "code",
   "execution_count": 2,
   "metadata": {},
   "outputs": [],
   "source": [
    "import data_generator\n",
    "import train\n",
    "import test\n",
    "\n",
    "batch_size = 512\n",
    "dg = data_generator.DataGenerator(root='./dataset', batch_size=batch_size)"
   ]
  },
  {
   "cell_type": "markdown",
   "metadata": {
    "colab_type": "text",
    "id": "6Ipmzy_xlFcb"
   },
   "source": [
    "#Train models from scratch\n",
    "\n",
    "#### Note: after each epoch, one checkpoint of the model will be created and stored in ./models"
   ]
  },
  {
   "cell_type": "code",
   "execution_count": null,
   "metadata": {
    "colab": {
     "base_uri": "https://localhost:8080/",
     "height": 72
    },
    "colab_type": "code",
    "id": "I-FDlNZ0Tja5",
    "outputId": "13b05b24-d500-4223-f2e7-d494525a860e"
   },
   "outputs": [],
   "source": [
    "train.run(dg, batch_size=batch_size, num_epochs=10, lr=8e-4)"
   ]
  },
  {
   "cell_type": "markdown",
   "metadata": {
    "colab_type": "text",
    "id": "orZq4suCkub9"
   },
   "source": [
    "### After the training is done, you can observe the logs and visualization created during the trainning by Tensorboard. If you wish to have Tensorboard visualizations for each epoch, you can run the following code cell.\n",
    "\n",
    "# Create historgrams and embedding for all checkpoints in ./models to visualize in Tensorboard"
   ]
  },
  {
   "cell_type": "code",
   "execution_count": null,
   "metadata": {
    "colab": {},
    "colab_type": "code",
    "id": "BmPE2N6ZlTmt",
    "scrolled": true
   },
   "outputs": [
    {
     "name": "stdout",
     "output_type": "stream",
     "text": [
      "Start creating logs for all checkpoints\n",
      "best.pt\n",
      "checkpoint1.pt\n"
     ]
    }
   ],
   "source": [
    "test.run(dg)"
   ]
  }
 ],
 "metadata": {
  "accelerator": "GPU",
  "colab": {
   "collapsed_sections": [],
   "name": "assignment.ipynb",
   "provenance": [],
   "toc_visible": true
  },
  "kernelspec": {
   "display_name": "Python 3",
   "language": "python",
   "name": "python3"
  },
  "language_info": {
   "codemirror_mode": {
    "name": "ipython",
    "version": 3
   },
   "file_extension": ".py",
   "mimetype": "text/x-python",
   "name": "python",
   "nbconvert_exporter": "python",
   "pygments_lexer": "ipython3",
   "version": "3.7.3"
  },
  "pycharm": {
   "stem_cell": {
    "cell_type": "raw",
    "metadata": {
     "collapsed": false
    },
    "source": []
   }
  }
 },
 "nbformat": 4,
 "nbformat_minor": 4
}
